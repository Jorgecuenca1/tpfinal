{
 "cells": [
  {
   "cell_type": "markdown",
   "metadata": {},
   "source": [
    "# Análisis de Series de Tiempo - Bitcoin\n",
    "## Trabajo Final - UBA Especialización en IA\n",
    "\n",
    "**Pregunta de Investigación:**  \n",
    "*¿Cómo han evolucionado los patrones de volatilidad del Bitcoin desde su creación y qué modelos de series de tiempo predicen mejor sus movimientos de precio a corto y mediano plazo?*\n",
    "\n",
    "---\n",
    "\n",
    "### Integrantes del grupo:\n",
    "- Nombre 1 - Código: XXXXX\n",
    "- Nombre 2 - Código: XXXXX\n",
    "- Nombre 3 - Código: XXXXX\n",
    "- Nombre 4 - Código: XXXXX"
   ]
  },
  {
   "cell_type": "markdown",
   "metadata": {},
   "source": [
    "## 1. Importar Librerías"
   ]
  },
  {
   "cell_type": "code",
   "execution_count": null,
   "metadata": {},
   "outputs": [],
   "source": [
    "# Manipulación de datos\n",
    "import pandas as pd\n",
    "import numpy as np\n",
    "\n",
    "# Visualización\n",
    "import matplotlib.pyplot as plt\n",
    "import seaborn as sns\n",
    "\n",
    "# Configuración\n",
    "plt.style.use('seaborn-v0_8-darkgrid')\n",
    "sns.set_palette(\"husl\")\n",
    "pd.options.display.float_format = '{:.2f}'.format\n",
    "\n",
    "# Ignorar warnings\n",
    "import warnings\n",
    "warnings.filterwarnings('ignore')\n",
    "\n",
    "print(\"Librerías importadas correctamente\")"
   ]
  },
  {
   "cell_type": "markdown",
   "metadata": {},
   "source": [
    "## 2. Cargar y Explorar los Datos\n",
    "\n",
    "### 2.1 Descripción de los Datos\n",
    "\n",
    "**Fuente:** Yahoo Finance / Kaggle  \n",
    "**Periodo:** 2014 - 2025  \n",
    "**Frecuencia:** Diaria\n",
    "\n",
    "**Atributos del dataset:**\n",
    "- **Date:** Fecha de la observación (tipo: datetime)\n",
    "- **Open:** Precio de apertura en USD (tipo: float)\n",
    "- **High:** Precio máximo del día en USD (tipo: float)\n",
    "- **Low:** Precio mínimo del día en USD (tipo: float)\n",
    "- **Close:** Precio de cierre en USD (tipo: float) - **Variable principal de análisis**\n",
    "- **Adj Close:** Precio de cierre ajustado en USD (tipo: float)\n",
    "- **Volume:** Volumen de transacciones (tipo: int)"
   ]
  },
  {
   "cell_type": "code",
   "execution_count": null,
   "metadata": {},
   "outputs": [],
   "source": [
    "# Cargar datos\n",
    "# NOTA: Primero debes descargar los datos ejecutando: python descargar_datos.py\n",
    "# O descarga manualmente desde https://finance.yahoo.com/quote/BTC-USD/history\n",
    "\n",
    "df = pd.read_csv('../data/raw/bitcoin_historical.csv')\n",
    "\n",
    "# Convertir fecha a datetime\n",
    "df['Date'] = pd.to_datetime(df['Date'])\n",
    "\n",
    "# Establecer fecha como índice\n",
    "df.set_index('Date', inplace=True)\n",
    "\n",
    "# Ordenar por fecha\n",
    "df.sort_index(inplace=True)\n",
    "\n",
    "print(f\"Dataset cargado: {df.shape[0]} observaciones, {df.shape[1]} variables\")\n",
    "print(f\"Periodo: {df.index.min()} a {df.index.max()}\")\n",
    "\n",
    "df.head()"
   ]
  },
  {
   "cell_type": "code",
   "execution_count": null,
   "metadata": {},
   "outputs": [],
   "source": [
    "# Información general del dataset\n",
    "df.info()"
   ]
  },
  {
   "cell_type": "code",
   "execution_count": null,
   "metadata": {},
   "outputs": [],
   "source": [
    "# Estadísticas descriptivas\n",
    "df.describe()"
   ]
  },
  {
   "cell_type": "markdown",
   "metadata": {},
   "source": [
    "## 3. Limpieza y Preparación de los Datos"
   ]
  },
  {
   "cell_type": "code",
   "execution_count": null,
   "metadata": {},
   "outputs": [],
   "source": [
    "# Verificar valores nulos\n",
    "print(\"Valores nulos por columna:\")\n",
    "print(df.isnull().sum())\n",
    "\n",
    "# Rellenar valores nulos si existen (método forward fill)\n",
    "if df.isnull().any().any():\n",
    "    df.fillna(method='ffill', inplace=True)\n",
    "    print(\"\\nValores nulos rellenados con forward fill\")"
   ]
  },
  {
   "cell_type": "code",
   "execution_count": null,
   "metadata": {},
   "outputs": [],
   "source": [
    "# Crear variables derivadas útiles para el análisis\n",
    "\n",
    "# Retornos diarios\n",
    "df['Returns'] = df['Close'].pct_change()\n",
    "\n",
    "# Volatilidad (desviación estándar móvil de 30 días)\n",
    "df['Volatility_30d'] = df['Returns'].rolling(window=30).std()\n",
    "\n",
    "# Media móvil simple (SMA)\n",
    "df['SMA_7'] = df['Close'].rolling(window=7).mean()\n",
    "df['SMA_30'] = df['Close'].rolling(window=30).mean()\n",
    "df['SMA_90'] = df['Close'].rolling(window=90).mean()\n",
    "\n",
    "# Rango diario (High - Low)\n",
    "df['Daily_Range'] = df['High'] - df['Low']\n",
    "\n",
    "print(\"Variables derivadas creadas\")\n",
    "df.head()"
   ]
  },
  {
   "cell_type": "code",
   "execution_count": null,
   "metadata": {},
   "outputs": [],
   "source": [
    "# Guardar datos procesados\n",
    "df.to_csv('../data/processed/bitcoin_processed.csv')\n",
    "print(\"Datos procesados guardados en: data/processed/bitcoin_processed.csv\")"
   ]
  },
  {
   "cell_type": "markdown",
   "metadata": {},
   "source": [
    "## 4. Análisis Exploratorio Visual"
   ]
  },
  {
   "cell_type": "code",
   "execution_count": null,
   "metadata": {},
   "outputs": [],
   "source": [
    "# Gráfica de precio de cierre\n",
    "plt.figure(figsize=(15, 6))\n",
    "plt.plot(df.index, df['Close'], linewidth=1)\n",
    "plt.title('Precio de Bitcoin (BTC-USD) - Serie Temporal Completa', fontsize=16)\n",
    "plt.xlabel('Fecha', fontsize=12)\n",
    "plt.ylabel('Precio de Cierre (USD)', fontsize=12)\n",
    "plt.grid(True, alpha=0.3)\n",
    "plt.tight_layout()\n",
    "plt.show()"
   ]
  },
  {
   "cell_type": "code",
   "execution_count": null,
   "metadata": {},
   "outputs": [],
   "source": [
    "# Precio con medias móviles\n",
    "plt.figure(figsize=(15, 6))\n",
    "plt.plot(df.index, df['Close'], label='Precio', linewidth=1, alpha=0.7)\n",
    "plt.plot(df.index, df['SMA_7'], label='SMA 7 días', linewidth=1.5)\n",
    "plt.plot(df.index, df['SMA_30'], label='SMA 30 días', linewidth=1.5)\n",
    "plt.plot(df.index, df['SMA_90'], label='SMA 90 días', linewidth=1.5)\n",
    "plt.title('Bitcoin - Precio y Medias Móviles', fontsize=16)\n",
    "plt.xlabel('Fecha', fontsize=12)\n",
    "plt.ylabel('Precio (USD)', fontsize=12)\n",
    "plt.legend(loc='best')\n",
    "plt.grid(True, alpha=0.3)\n",
    "plt.tight_layout()\n",
    "plt.show()"
   ]
  },
  {
   "cell_type": "code",
   "execution_count": null,
   "metadata": {},
   "outputs": [],
   "source": [
    "# Volatilidad en el tiempo\n",
    "plt.figure(figsize=(15, 6))\n",
    "plt.plot(df.index, df['Volatility_30d'], color='red', linewidth=1)\n",
    "plt.title('Volatilidad de Bitcoin (Desv. Estándar Móvil 30 días)', fontsize=16)\n",
    "plt.xlabel('Fecha', fontsize=12)\n",
    "plt.ylabel('Volatilidad', fontsize=12)\n",
    "plt.grid(True, alpha=0.3)\n",
    "plt.tight_layout()\n",
    "plt.show()"
   ]
  },
  {
   "cell_type": "code",
   "execution_count": null,
   "metadata": {},
   "outputs": [],
   "source": [
    "# Distribución de retornos diarios\n",
    "plt.figure(figsize=(12, 5))\n",
    "\n",
    "plt.subplot(1, 2, 1)\n",
    "df['Returns'].hist(bins=100, edgecolor='black')\n",
    "plt.title('Distribución de Retornos Diarios', fontsize=14)\n",
    "plt.xlabel('Retorno', fontsize=12)\n",
    "plt.ylabel('Frecuencia', fontsize=12)\n",
    "\n",
    "plt.subplot(1, 2, 2)\n",
    "df['Returns'].plot(kind='box', vert=True)\n",
    "plt.title('Box Plot de Retornos Diarios', fontsize=14)\n",
    "plt.ylabel('Retorno', fontsize=12)\n",
    "\n",
    "plt.tight_layout()\n",
    "plt.show()\n",
    "\n",
    "print(f\"Media de retornos: {df['Returns'].mean():.4f}\")\n",
    "print(f\"Desviación estándar: {df['Returns'].std():.4f}\")"
   ]
  },
  {
   "cell_type": "markdown",
   "metadata": {},
   "source": [
    "## 5. Análisis de Estacionariedad"
   ]
  },
  {
   "cell_type": "code",
   "execution_count": null,
   "metadata": {},
   "outputs": [],
   "source": [
    "# Test de Dickey-Fuller Aumentado (ADF)\n",
    "from statsmodels.tsa.stattools import adfuller\n",
    "\n",
    "def test_stationarity(timeseries, title):\n",
    "    # Test ADF\n",
    "    result = adfuller(timeseries.dropna())\n",
    "    \n",
    "    print(f'\\n{title}')\n",
    "    print('='*60)\n",
    "    print(f'ADF Statistic: {result[0]:.6f}')\n",
    "    print(f'p-value: {result[1]:.6f}')\n",
    "    print(f'Valores críticos:')\n",
    "    for key, value in result[4].items():\n",
    "        print(f'\\t{key}: {value:.3f}')\n",
    "    \n",
    "    if result[1] <= 0.05:\n",
    "        print(\"\\n✓ La serie ES estacionaria (rechazamos H0)\")\n",
    "    else:\n",
    "        print(\"\\n✗ La serie NO es estacionaria (no rechazamos H0)\")\n",
    "\n",
    "# Test en precio original\n",
    "test_stationarity(df['Close'], 'Test de Estacionariedad - Precio')\n",
    "\n",
    "# Test en retornos\n",
    "test_stationarity(df['Returns'], 'Test de Estacionariedad - Retornos')"
   ]
  },
  {
   "cell_type": "markdown",
   "metadata": {},
   "source": [
    "## 6. Autocorrelación (ACF y PACF)"
   ]
  },
  {
   "cell_type": "code",
   "execution_count": null,
   "metadata": {},
   "outputs": [],
   "source": [
    "from statsmodels.graphics.tsaplots import plot_acf, plot_pacf\n",
    "\n",
    "# Preparar datos (eliminar NaN)\n",
    "returns_clean = df['Returns'].dropna()\n",
    "\n",
    "fig, axes = plt.subplots(2, 1, figsize=(15, 10))\n",
    "\n",
    "# ACF\n",
    "plot_acf(returns_clean, lags=40, ax=axes[0])\n",
    "axes[0].set_title('Función de Autocorrelación (ACF)', fontsize=14)\n",
    "\n",
    "# PACF\n",
    "plot_pacf(returns_clean, lags=40, ax=axes[1])\n",
    "axes[1].set_title('Función de Autocorrelación Parcial (PACF)', fontsize=14)\n",
    "\n",
    "plt.tight_layout()\n",
    "plt.show()"
   ]
  },
  {
   "cell_type": "markdown",
   "metadata": {},
   "source": [
    "## 7. Descomposición de la Serie\n",
    "\n",
    "Descomponemos la serie en: Tendencia, Estacionalidad y Residuos"
   ]
  },
  {
   "cell_type": "code",
   "execution_count": null,
   "metadata": {},
   "outputs": [],
   "source": [
    "from statsmodels.tsa.seasonal import seasonal_decompose\n",
    "\n",
    "# Descomposición aditiva\n",
    "decomposition = seasonal_decompose(df['Close'].dropna(), model='additive', period=30)\n",
    "\n",
    "fig, axes = plt.subplots(4, 1, figsize=(15, 12))\n",
    "\n",
    "decomposition.observed.plot(ax=axes[0], title='Serie Original')\n",
    "decomposition.trend.plot(ax=axes[1], title='Tendencia')\n",
    "decomposition.seasonal.plot(ax=axes[2], title='Estacionalidad')\n",
    "decomposition.resid.plot(ax=axes[3], title='Residuos')\n",
    "\n",
    "plt.tight_layout()\n",
    "plt.show()"
   ]
  },
  {
   "cell_type": "markdown",
   "metadata": {},
   "source": [
    "## 8. División de Datos: Train/Test\n",
    "\n",
    "Dividimos los datos en conjunto de entrenamiento (80%) y prueba (20%)"
   ]
  },
  {
   "cell_type": "code",
   "execution_count": null,
   "metadata": {},
   "outputs": [],
   "source": [
    "# Seleccionar solo la columna de precio de cierre\n",
    "data = df['Close'].copy()\n",
    "\n",
    "# Dividir en train/test (80/20)\n",
    "train_size = int(len(data) * 0.8)\n",
    "train = data[:train_size]\n",
    "test = data[train_size:]\n",
    "\n",
    "print(f\"Tamaño del conjunto de entrenamiento: {len(train)}\")\n",
    "print(f\"Tamaño del conjunto de prueba: {len(test)}\")\n",
    "print(f\"\\nPeriodo de entrenamiento: {train.index.min()} a {train.index.max()}\")\n",
    "print(f\"Periodo de prueba: {test.index.min()} a {test.index.max()}\")\n",
    "\n",
    "# Visualizar división\n",
    "plt.figure(figsize=(15, 6))\n",
    "plt.plot(train.index, train, label='Entrenamiento', linewidth=1)\n",
    "plt.plot(test.index, test, label='Prueba', linewidth=1)\n",
    "plt.title('División Train/Test del Dataset', fontsize=16)\n",
    "plt.xlabel('Fecha', fontsize=12)\n",
    "plt.ylabel('Precio (USD)', fontsize=12)\n",
    "plt.legend()\n",
    "plt.grid(True, alpha=0.3)\n",
    "plt.tight_layout()\n",
    "plt.show()"
   ]
  },
  {
   "cell_type": "markdown",
   "metadata": {},
   "source": [
    "## 9. Próximos Pasos\n",
    "\n",
    "En los siguientes notebooks desarrollaremos:\n",
    "\n",
    "1. **Notebook 02 - Modelo ARIMA/SARIMA:**\n",
    "   - Identificación de parámetros (p, d, q)\n",
    "   - Ajuste del modelo\n",
    "   - Predicciones y evaluación\n",
    "\n",
    "2. **Notebook 03 - Modelo LSTM (Deep Learning):**\n",
    "   - Preparación de datos para redes neuronales\n",
    "   - Arquitectura de red LSTM\n",
    "   - Entrenamiento y predicción\n",
    "\n",
    "3. **Notebook 04 - Modelo Prophet:**\n",
    "   - Configuración del modelo Prophet de Facebook\n",
    "   - Ajuste y pronósticos\n",
    "   - Visualización de componentes\n",
    "\n",
    "4. **Notebook 05 - Comparación de Modelos:**\n",
    "   - Evaluación con métricas: RMSE, MAE, MAPE\n",
    "   - Comparación visual\n",
    "   - Conclusiones finales"
   ]
  },
  {
   "cell_type": "markdown",
   "metadata": {},
   "source": [
    "## 10. Guardar Datos Preparados"
   ]
  },
  {
   "cell_type": "code",
   "execution_count": null,
   "metadata": {},
   "outputs": [],
   "source": [
    "# Guardar conjuntos de entrenamiento y prueba\n",
    "train.to_csv('../data/processed/train.csv')\n",
    "test.to_csv('../data/processed/test.csv')\n",
    "\n",
    "print(\"Datos guardados:\")\n",
    "print(\"- data/processed/train.csv\")\n",
    "print(\"- data/processed/test.csv\")"
   ]
  }
 ],
 "metadata": {
  "kernelspec": {
   "display_name": "Python 3",
   "language": "python",
   "name": "python3"
  },
  "language_info": {
   "codemirror_mode": {
    "name": "ipython",
    "version": 3
   },
   "file_extension": ".py",
   "mimetype": "text/x-python",
   "name": "python",
   "nbconvert_exporter": "python",
   "pygments_lexer": "ipython3",
   "version": "3.11.0"
  }
 },
 "nbformat": 4,
 "nbformat_minor": 4
}
